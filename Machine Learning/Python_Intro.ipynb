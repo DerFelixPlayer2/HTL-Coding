{
 "cells": [
  {
   "cell_type": "markdown",
   "source": [
    "# Python Introduction\n",
    "\n",
    "## Variables and Types\n",
    "Python is completely object oriented, and not \"statically types\". You do not need to declare variables before using them, or declare their type. Every variable in Python is an object.\n",
    "\n",
    "- Numbers\n",
    "  - Integers\n",
    "  - Floating Point\n",
    "  - (complex numbers)\n",
    "- Strings"
   ],
   "metadata": {
    "collapsed": false
   }
  },
  {
   "cell_type": "code",
   "execution_count": 40,
   "metadata": {
    "collapsed": true
   },
   "outputs": [
    {
     "name": "stdout",
     "output_type": "stream",
     "text": [
      "4.7\n",
      "5.0\n"
     ]
    }
   ],
   "source": [
    "myfloat = 4.7\n",
    "print(myfloat)\n",
    "\n",
    "myfloat = float(5)\n",
    "print(myfloat)"
   ]
  },
  {
   "cell_type": "code",
   "execution_count": 41,
   "outputs": [
    {
     "name": "stdout",
     "output_type": "stream",
     "text": [
      "hello\n",
      "hello\n",
      "I'm cool!\n"
     ]
    }
   ],
   "source": [
    "mystring = 'hello'\n",
    "print(mystring)\n",
    "\n",
    "mystring = \"hello\"\n",
    "print(mystring)\n",
    "\n",
    "mystring = \"I'm cool!\"\n",
    "print(mystring)"
   ],
   "metadata": {
    "collapsed": false
   }
  },
  {
   "cell_type": "code",
   "execution_count": 42,
   "outputs": [
    {
     "name": "stdout",
     "output_type": "stream",
     "text": [
      "12\n",
      "3\n",
      "lo W\n",
      "l \n",
      "!dlroW olleH\n",
      "HELLO WORLD! hello world!\n"
     ]
    }
   ],
   "source": [
    "mystr = 'Hello World!'\n",
    "\n",
    "print(len(mystr))\n",
    "print(mystr.count('l'))\n",
    "print(mystr[3:7])\n",
    "print(mystr[3:7:2])\n",
    "print(mystr[::-1])\n",
    "print(mystr.upper(), mystr.lower())"
   ],
   "metadata": {
    "collapsed": false
   }
  },
  {
   "cell_type": "markdown",
   "source": [
    "## Lists\n",
    "\n",
    "Lists are very similar to arrays. They can contain any type of variable, and they can contain as many variables as you wish. Lists can alsi be iterated over in a very simple manner. Here is an example of how to build a list."
   ],
   "metadata": {
    "collapsed": false
   }
  },
  {
   "cell_type": "code",
   "execution_count": 43,
   "outputs": [
    {
     "name": "stdout",
     "output_type": "stream",
     "text": [
      "1 [1, 2, 3, 4]\n",
      "1\n",
      "2\n",
      "3\n",
      "4\n"
     ]
    }
   ],
   "source": [
    "list = [1, 2, 3]\n",
    "list.append(4)\n",
    "\n",
    "print(list[0], list)\n",
    "\n",
    "for x in list:\n",
    "    print(x)"
   ],
   "metadata": {
    "collapsed": false
   }
  },
  {
   "cell_type": "markdown",
   "source": [
    "### Slicing a List"
   ],
   "metadata": {
    "collapsed": false
   }
  },
  {
   "cell_type": "code",
   "execution_count": 44,
   "outputs": [
    {
     "name": "stdout",
     "output_type": "stream",
     "text": [
      "[2, 3, 4]\n",
      "[0, 1, 2, 3, 4]\n",
      "[1, 2, 3, 4, 5, 6, 7, 8, 9]\n",
      "[3, 4, 5, 6, 7, 8, 9]\n",
      "True\n"
     ]
    }
   ],
   "source": [
    "list = [0, 1, 2, 3, 4, 5, 6, 7, 8, 9]\n",
    "\n",
    "print(list[2:5])\n",
    "print(list[:5])\n",
    "del list[0]\n",
    "print(list)\n",
    "\n",
    "del list[:2]\n",
    "print(list)\n",
    "\n",
    "print(6 in list)"
   ],
   "metadata": {
    "collapsed": false
   }
  },
  {
   "cell_type": "markdown",
   "source": [
    "### List Comprehension"
   ],
   "metadata": {
    "collapsed": false
   }
  },
  {
   "cell_type": "code",
   "execution_count": 45,
   "outputs": [
    {
     "name": "stdout",
     "output_type": "stream",
     "text": [
      "[1, 4, 9, 16, 25]\n"
     ]
    }
   ],
   "source": [
    "numbers = [n * n for n in range(1, 6)]\n",
    "print(numbers)"
   ],
   "metadata": {
    "collapsed": false
   }
  },
  {
   "cell_type": "markdown",
   "source": [
    "## Basic Operators\n",
    "\n",
    "### Mathematical Operators"
   ],
   "metadata": {
    "collapsed": false
   }
  },
  {
   "cell_type": "code",
   "execution_count": 46,
   "outputs": [
    {
     "name": "stdout",
     "output_type": "stream",
     "text": [
      "3.75\n",
      "49\n",
      "8\n"
     ]
    }
   ],
   "source": [
    "num = 1 + 2 + 3 / 4.0\n",
    "print(num)\n",
    "\n",
    "squared = 7 ** 2\n",
    "print(squared)\n",
    "\n",
    "cubed = 2 ** 3\n",
    "print(cubed)"
   ],
   "metadata": {
    "collapsed": false
   }
  },
  {
   "cell_type": "markdown",
   "source": [
    "### String Operators"
   ],
   "metadata": {
    "collapsed": false
   }
  },
  {
   "cell_type": "code",
   "execution_count": 47,
   "outputs": [
    {
     "name": "stdout",
     "output_type": "stream",
     "text": [
      "hello world\n",
      "hello5\n",
      "hellohellohellohellohellohellohellohellohellohello\n"
     ]
    }
   ],
   "source": [
    "h = \"hello \" + \"world\"\n",
    "print(h)\n",
    "\n",
    "h = \"hello\"\n",
    "print(\"hello\" + str(5))\n",
    "\n",
    "print(h * 10)"
   ],
   "metadata": {
    "collapsed": false
   }
  },
  {
   "cell_type": "markdown",
   "source": [
    "### List Operators"
   ],
   "metadata": {
    "collapsed": false
   }
  },
  {
   "cell_type": "code",
   "execution_count": 48,
   "outputs": [
    {
     "name": "stdout",
     "output_type": "stream",
     "text": [
      "[2, 4, 6, 8, 1, 3, 5, 7, 9]\n",
      "[1, 2, 3, 1, 2, 3, 1, 2, 3, 1, 2, 3, 1, 2, 3]\n"
     ]
    }
   ],
   "source": [
    "even = [2, 4, 6, 8]\n",
    "odd = [1, 3, 5, 7, 9]\n",
    "\n",
    "print(even + odd)\n",
    "\n",
    "print([1, 2, 3] * 5)"
   ],
   "metadata": {
    "collapsed": false
   }
  },
  {
   "cell_type": "markdown",
   "source": [
    "### String Formatting"
   ],
   "metadata": {
    "collapsed": false
   }
  },
  {
   "cell_type": "code",
   "execution_count": 49,
   "outputs": [
    {
     "name": "stdout",
     "output_type": "stream",
     "text": [
      "%s is %d years old. ('John', 23)\n",
      "John is 23 years old.\n"
     ]
    }
   ],
   "source": [
    "name = 'John'\n",
    "age = 23\n",
    "\n",
    "print(\"%s is %d years old.\", (name, age))\n",
    "print(f\"{name} is {age} years old.\")"
   ],
   "metadata": {
    "collapsed": false
   }
  },
  {
   "cell_type": "markdown",
   "source": [
    "## Conditions"
   ],
   "metadata": {
    "collapsed": false
   }
  },
  {
   "cell_type": "code",
   "execution_count": 50,
   "outputs": [
    {
     "name": "stdout",
     "output_type": "stream",
     "text": [
      "True\n",
      "False\n",
      "Yay\n"
     ]
    }
   ],
   "source": [
    "x = 2\n",
    "print(x == 2)\n",
    "print(x > 2)\n",
    "\n",
    "name = \"John\"\n",
    "if name == \"John\" and x == 2:\n",
    "    print(\"Yay\")"
   ],
   "metadata": {
    "collapsed": false
   }
  },
  {
   "cell_type": "code",
   "execution_count": 51,
   "outputs": [
    {
     "name": "stdout",
     "output_type": "stream",
     "text": [
      "Nice!\n"
     ]
    }
   ],
   "source": [
    "n = 1\n",
    "if n in [1, 2]:\n",
    "    print(\"Nice!\")\n",
    "elif n not in [2, 3]:\n",
    "    print(\"Nicer!\")\n",
    "else:\n",
    "    print(\"Nope.\")"
   ],
   "metadata": {
    "collapsed": false
   }
  },
  {
   "cell_type": "code",
   "execution_count": 52,
   "outputs": [
    {
     "name": "stdout",
     "output_type": "stream",
     "text": [
      "True\n",
      "False\n"
     ]
    }
   ],
   "source": [
    "x = [1, 2, 3]\n",
    "y = [1, 2, 3]\n",
    "\n",
    "print(x == y)\n",
    "print(x is y)"
   ],
   "metadata": {
    "collapsed": false
   }
  },
  {
   "cell_type": "markdown",
   "source": [
    "## Loops"
   ],
   "metadata": {
    "collapsed": false
   }
  },
  {
   "cell_type": "code",
   "execution_count": 53,
   "outputs": [
    {
     "name": "stdout",
     "output_type": "stream",
     "text": [
      "2\n",
      "3\n",
      "5\n",
      "7\n",
      "0\n",
      "1\n",
      "2\n",
      "3\n",
      "4\n",
      "3\n",
      "4\n",
      "5\n",
      "3\n",
      "5\n",
      "7\n"
     ]
    }
   ],
   "source": [
    "primes = [2, 3, 5, 7]\n",
    "# 2 is the oddest prime\n",
    "\n",
    "for p in primes:\n",
    "    print(p)\n",
    "\n",
    "for x in range(5):\n",
    "    print(x)\n",
    "\n",
    "for x in range(3, 6):\n",
    "    print(x)\n",
    "\n",
    "for x in range(3, 8, 2):\n",
    "    print(x)"
   ],
   "metadata": {
    "collapsed": false
   }
  },
  {
   "cell_type": "markdown",
   "source": [
    "### While"
   ],
   "metadata": {
    "collapsed": false
   }
  },
  {
   "cell_type": "code",
   "execution_count": 54,
   "outputs": [
    {
     "name": "stdout",
     "output_type": "stream",
     "text": [
      "0\n",
      "1\n",
      "2\n",
      "3\n",
      "4\n"
     ]
    }
   ],
   "source": [
    "count = 0\n",
    "while count < 5:\n",
    "    print(count)\n",
    "    count += 1"
   ],
   "metadata": {
    "collapsed": false
   }
  },
  {
   "cell_type": "markdown",
   "source": [
    "### Else\n",
    "\n",
    "Unlike languages like in C, CPP.. we can use else for loops. When the loop condition of \"for\" or \"while\" statement fails then code part in \"else\" is executed. If a break statement is executed inside the loop, the \"else\" statement is skipped."
   ],
   "metadata": {
    "collapsed": false
   }
  },
  {
   "cell_type": "markdown",
   "source": [
    "## Functions"
   ],
   "metadata": {
    "collapsed": false
   }
  },
  {
   "cell_type": "code",
   "execution_count": 55,
   "outputs": [
    {
     "name": "stdout",
     "output_type": "stream",
     "text": [
      "I am a function.\n",
      "I take args: A\n",
      "Also these: B\n",
      "I take args: A\n",
      "Also these: B\n",
      "I take args: Cool\n",
      "Also these: Test\n"
     ]
    }
   ],
   "source": [
    "def func():\n",
    "    print(\"I am a function.\")\n",
    "\n",
    "def func_wa(arg1, arg2 = \"Test\"):\n",
    "    print(f\"I take args: {arg1}\")\n",
    "    print(f\"Also these: {arg2}\")\n",
    "\n",
    "func()\n",
    "func_wa(\"A\", \"B\")\n",
    "func_wa(arg1 = \"A\", arg2 = \"B\")\n",
    "func_wa(\"Cool\")"
   ],
   "metadata": {
    "collapsed": false
   }
  },
  {
   "cell_type": "markdown",
   "source": [
    "### Lambdas"
   ],
   "metadata": {
    "collapsed": false
   }
  },
  {
   "cell_type": "code",
   "execution_count": 56,
   "outputs": [
    {
     "name": "stdout",
     "output_type": "stream",
     "text": [
      "Hello World!\n"
     ]
    }
   ],
   "source": [
    "greet = lambda : print(\"Hello World!\")\n",
    "greet()"
   ],
   "metadata": {
    "collapsed": false
   }
  },
  {
   "cell_type": "markdown",
   "source": [
    "## Global and Local Variables"
   ],
   "metadata": {
    "collapsed": false
   }
  },
  {
   "cell_type": "code",
   "execution_count": 57,
   "outputs": [
    {
     "name": "stdout",
     "output_type": "stream",
     "text": [
      "From Function:  Hello World!\n"
     ]
    }
   ],
   "source": [
    "def greet():\n",
    "    msg = \"Hello World!\"\n",
    "    print(\"From Function: \", msg)\n",
    "\n",
    "greet()"
   ],
   "metadata": {
    "collapsed": false
   }
  },
  {
   "cell_type": "code",
   "execution_count": 58,
   "outputs": [
    {
     "name": "stdout",
     "output_type": "stream",
     "text": [
      "From Function2:  Hello\n",
      "Hello\n"
     ]
    }
   ],
   "source": [
    "msg_glob = \"Hello\"\n",
    "\n",
    "def greet2():\n",
    "    print(\"From Function2: \", msg_glob)\n",
    "\n",
    "greet2()\n",
    "print(msg_glob)"
   ],
   "metadata": {
    "collapsed": false
   }
  },
  {
   "cell_type": "code",
   "execution_count": 59,
   "outputs": [
    {
     "name": "stdout",
     "output_type": "stream",
     "text": [
      "1\n",
      "2\n",
      "3\n"
     ]
    }
   ],
   "source": [
    "c = 1\n",
    "\n",
    "def add():\n",
    "    global c\n",
    "    print(c)\n",
    "    c += 1\n",
    "\n",
    "add()\n",
    "add()\n",
    "add()"
   ],
   "metadata": {
    "collapsed": false
   }
  },
  {
   "cell_type": "markdown",
   "source": [
    "## Classes and Objects"
   ],
   "metadata": {
    "collapsed": false
   }
  },
  {
   "cell_type": "code",
   "execution_count": 60,
   "outputs": [
    {
     "name": "stdout",
     "output_type": "stream",
     "text": [
      "blah\n",
      "Hello from MyClass:f\n"
     ]
    }
   ],
   "source": [
    "class MyClass:\n",
    "    v = \"blah\"\n",
    "\n",
    "    def f(self):\n",
    "        print(\"Hello from MyClass:f\")\n",
    "\n",
    "myc = MyClass()\n",
    "print(myc.v)\n",
    "myc.f()\n",
    "\n",
    "class MyChild(MyClass): # Extending\n",
    "    pass"
   ],
   "metadata": {
    "collapsed": false
   }
  },
  {
   "cell_type": "markdown",
   "source": [
    "### Private"
   ],
   "metadata": {
    "collapsed": false
   }
  },
  {
   "cell_type": "code",
   "execution_count": 61,
   "outputs": [
    {
     "ename": "AttributeError",
     "evalue": "'A' object has no attribute '__d'",
     "output_type": "error",
     "traceback": [
      "\u001B[1;31m---------------------------------------------------------------------------\u001B[0m",
      "\u001B[1;31mAttributeError\u001B[0m                            Traceback (most recent call last)",
      "Cell \u001B[1;32mIn[61], line 4\u001B[0m\n\u001B[0;32m      1\u001B[0m \u001B[38;5;28;01mclass\u001B[39;00m \u001B[38;5;21;01mA\u001B[39;00m:\n\u001B[0;32m      2\u001B[0m     __d \u001B[38;5;241m=\u001B[39m \u001B[38;5;241m3\u001B[39m\n\u001B[1;32m----> 4\u001B[0m \u001B[43mA\u001B[49m\u001B[43m(\u001B[49m\u001B[43m)\u001B[49m\u001B[38;5;241;43m.\u001B[39;49m\u001B[43m__d\u001B[49m\n",
      "\u001B[1;31mAttributeError\u001B[0m: 'A' object has no attribute '__d'"
     ]
    }
   ],
   "source": [
    "class A:\n",
    "    __d = 3\n",
    "\n",
    "A().__d"
   ],
   "metadata": {
    "collapsed": false
   }
  },
  {
   "cell_type": "markdown",
   "source": [
    "### Multiple Inheritance\n",
    "\n",
    "Method Resolution specifies that methods should be inherited the leftmost superclass first, so info of SuperClass1 is called rather than that of SuperClass2."
   ],
   "metadata": {
    "collapsed": false
   }
  },
  {
   "cell_type": "code",
   "execution_count": null,
   "outputs": [],
   "source": [
    "class SuperClass1:\n",
    "    def info(self):\n",
    "        print(\"Super Class 1\")\n",
    "\n",
    "class SuperClass2:\n",
    "    def info(self):\n",
    "        print(\"Super Class 2\")\n",
    "\n",
    "class Derived(SuperClass1, SuperClass2):\n",
    "    pass\n",
    "\n",
    "d = Derived()\n",
    "d.info()"
   ],
   "metadata": {
    "collapsed": false
   }
  },
  {
   "cell_type": "markdown",
   "source": [
    "### Operator Overloading"
   ],
   "metadata": {
    "collapsed": false
   }
  },
  {
   "cell_type": "code",
   "execution_count": null,
   "outputs": [],
   "source": [
    "class Overloading:\n",
    "    value = 0\n",
    "\n",
    "    def __str__(self):\n",
    "        return \"This is me as a string!\"\n",
    "\n",
    "    def __len__(self):\n",
    "        return 17\n",
    "\n",
    "    def __add__(self, other):\n",
    "        self.value += other"
   ],
   "metadata": {
    "collapsed": false
   }
  },
  {
   "cell_type": "markdown",
   "source": [
    "#### Iterator"
   ],
   "metadata": {
    "collapsed": false
   }
  },
  {
   "cell_type": "code",
   "execution_count": null,
   "outputs": [],
   "source": [
    "class Fibs: # from   www. jav a2  s  . c o  m\n",
    "    def __init__(self):\n",
    "        self.a = 0\n",
    "        self.b = 1\n",
    "\n",
    "    def __next__(self):\n",
    "        self.a, self.b = self.b, self.a+self.b\n",
    "        return self.a\n",
    "\n",
    "    def __iter__(self):\n",
    "        return self\n",
    "\n",
    "fibs = Fibs()\n",
    "for f in fibs:\n",
    "    if f > 1000:\n",
    "        print(f)\n",
    "        break"
   ],
   "metadata": {
    "collapsed": false
   }
  }
 ],
 "metadata": {
  "kernelspec": {
   "display_name": "Python 3",
   "language": "python",
   "name": "python3"
  },
  "language_info": {
   "codemirror_mode": {
    "name": "ipython",
    "version": 2
   },
   "file_extension": ".py",
   "mimetype": "text/x-python",
   "name": "python",
   "nbconvert_exporter": "python",
   "pygments_lexer": "ipython2",
   "version": "2.7.6"
  }
 },
 "nbformat": 4,
 "nbformat_minor": 0
}
